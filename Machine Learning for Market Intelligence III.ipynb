{
 "cells": [
  {
   "cell_type": "markdown",
   "metadata": {},
   "source": [
    "<center><font size=4><b> $\\oplus$ Machine Learning and the Market for Intelligence III, Toronto, October 26, 2017 $\\oplus$ </b></font></center>"
   ]
  },
  {
   "cell_type": "markdown",
   "metadata": {},
   "source": [
    "Ajay Agrawal, Creative Destruction Lab\n",
    "\n",
    "- cost of predicton falling\n",
    "- value of compliments rise\n",
    "- value of human judgement goes up\n",
    "- value of human prediction falls\n",
    "- as prediction accuracy increases changes in business strategy e.g. Amazon anticipatory shipping patent (https://www.google.com/patents/US8615473)\n",
    "- what are the tradeoffs companies are making to become AI first (e.g. Google)\n",
    "- Google may have a different thesis about the time horizon of AI pay offs and are investing now as opposed to later\n",
    "- Dissonance, investments in AI not necessarily transformational although narratives express great promise for AI\n",
    "- The time horizon for AI will not necessarily be linear, likely exponential"
   ]
  },
  {
   "cell_type": "markdown",
   "metadata": {},
   "source": [
    "Russ Salakhutdinov, CMU\n",
    "\n",
    "- key challenges, reasoning, attention and memory, NLP, reinforcement learning, unsupervised learning\n",
    "- generating captions for images have issues if the system was not training for the specific context\n",
    "- issues with reasoning systems need to understand context of document\n",
    "- deep reinforcement learning with memory\n",
    "- developing systems that learn with fewer examples\n",
    "- advancements in personal assistants and dialogue based systems (e.g. medicine, technical systems)"
   ]
  },
  {
   "cell_type": "markdown",
   "metadata": {},
   "source": [
    "Elizabeth Caley, Meta\n",
    "\n",
    "- huge volume of scientific publishing\n",
    "- tools to help process the amount of scientific literature and data\n",
    "- personalized learning and life long learning"
   ]
  },
  {
   "cell_type": "markdown",
   "metadata": {},
   "source": [
    "Eric Jonas, UC Berkeley\n",
    "\n",
    "- Brain activity map project\n",
    "- understanding machines through neuroscience techniques\n",
    "- prediction for understanding at what scale\n",
    "- understanding for repair or abstraction\n",
    "- need better algorithms for extracting data from neural studies\n",
    "- develop quick experiments in neuroscience to avoid passive observation"
   ]
  },
  {
   "cell_type": "markdown",
   "metadata": {},
   "source": [
    "Doina Precup, McGill University and Deepmind\n",
    "\n",
    "- reinforcement learning -> AlphaGo Zero\n",
    "- develop these systems further to interact with the natural world\n",
    "- we can use reinforcement learning for time predictions - applications are fairly reliable\n",
    "- control and exploration more difficult\n",
    "- learning by imitation, more work to be done in this field - AI to work alongside with humans\n",
    "- what is the error signal that is feed in for learning\n",
    "- more training needed to bring people into the industry, more compute power and data in research\n",
    "- LSTMs and self learning for partial observable applications (i.e. current work in Poker playing)\n",
    "- getting AI to general audience maybe developing new interfaces to use technology"
   ]
  },
  {
   "cell_type": "markdown",
   "metadata": {},
   "source": [
    "Shivon Zilis, OpenAI, Bloomberg Beta Interviews Prime Minister of Canada, Justin Trudeau\n",
    "\n",
    "* canada investing in AI, and attracting companies due to talent and diversity\n",
    "* winner take all, large companies that are developing AI are reaping benefits of massive data at expensive of other companies\n",
    "* canadian government focusing on creating growth in middle class, expanding confidence in the future"
   ]
  },
  {
   "cell_type": "markdown",
   "metadata": {},
   "source": [
    "Brad Hoverly, Grammarly\n",
    "\n",
    "* not attended"
   ]
  },
  {
   "cell_type": "markdown",
   "metadata": {},
   "source": [
    "Don Crawford, Analytics 4 Life\n",
    "\n",
    "* collecting heart data - reconstructing 3D model, and predictive analysis for heart disease\n",
    "* proprietary device collecting phase array data, voltage potentials, 7 electrodes, 3 minute data window\n",
    "* high fidelity data that is highly sychronized that is important\n",
    "* promising results in detecting heart disease\n",
    "* 5 year development cycle - rigourous quality management system from the beginning"
   ]
  },
  {
   "cell_type": "markdown",
   "metadata": {},
   "source": [
    "Lukas Biewald, CrowdFlower\n",
    "\n",
    "* companies have issues deploying ML projects\n",
    "* ML is unpredictable and may get plateauing results\n",
    "* incorporating human judgement to improve performance of models\n",
    "* increasing training data size and cleaning data improves performance\n",
    "* recent Google paper: the unreasonable effectives of data (https://arxiv.org/pdf/1707.02968.pdf)\n",
    "* issue of understanding machine code for deep learning and the size of it increasing"
   ]
  },
  {
   "cell_type": "markdown",
   "metadata": {},
   "source": [
    "Tomi Poutanen, Layer 6 AI\n",
    "\n",
    "* ACM Recommendation System Challenge for personalization systems\n",
    "* Layer 6 AI deep learning approach to model users and items - embedding - turn around recommendations in 30 min\n",
    "* focus on banks (4 out 5 banks in Canada) - product focus to grow a business around this system"
   ]
  },
  {
   "cell_type": "markdown",
   "metadata": {},
   "source": [
    "Peter Wittek, Creative Destruction Lab\n",
    "\n",
    "* quantum computer is maturing: D-Wave, IBM Q, Rigetti, IonQ, Xanadu\n",
    "* 4-5 years to see some results from quantum computing\n",
    "* quantum ML complements not replaces state of the art\n",
    "* constant-time speedup is what we are after\n",
    "* sampling applications - Netramark\n",
    "* 20 quantum ML start-ups at CDL\n",
    "* optimization - non convex - Quantum Meta AI\n",
    "* quantum simulations - ProteinQure"
   ]
  },
  {
   "cell_type": "markdown",
   "metadata": {},
   "source": [
    "Steve Jurvetson, DFJ\n",
    "\n",
    "* Moore's Law projected through last 100 years - expontential curve\n",
    "* New products to focus on what is the best software, algorithm - this will apply to different spaces (e.g. automotive etc)\n",
    "* Data collection key for autonomous vehicles - some companies training on software - simulators\n",
    "* Observational technologies - who has the most data from satellites - incorporating AI into the devices\n",
    "* Jeff Hawkings - everything is memory - ASIC chips - Mythic - incorporating compute in memory\n",
    "* David Deutsch - quantum computing\n",
    "* does quantum computing grow linearily or will it grow faster than more Moore's law\n",
    "* quantum computers lower samples to get results e.g. Higgs Boson experiment (https://www.nature.com/nature/journal/v550/n7676/full/550339a.html)\n",
    "* iterative algorithms for generative design - learning more effective design\n",
    "* creating a new AI that we exceed our intelligence without needed to understand human brain"
   ]
  },
  {
   "cell_type": "markdown",
   "metadata": {},
   "source": [
    "Max Tegmark, MIT\n",
    "\n",
    "* control of AI - future of life institute (http://futureoflife.org/ai-principles)\n",
    "* AI safety engineering"
   ]
  },
  {
   "cell_type": "markdown",
   "metadata": {},
   "source": [
    "Rich Sutton, Deepmind and University of Alberta\n",
    "\n",
    "* AI focus should be more human\n",
    "* how do we know how people learn or make decisions\n",
    "* AI is moving beyond prediction to integrating goals and decision making\n",
    "* AlphaGo Zero learning from trial and error like humans"
   ]
  },
  {
   "cell_type": "markdown",
   "metadata": {},
   "source": [
    "Suzanne Gildert, Kindred\n",
    "\n",
    "* developing software, want to get it into the physical world - embodiment\n",
    "* AGI to solve all kinds of problems\n",
    "* Deep learning and reinforcement learning expanding in scope to solve general problems\n",
    "* cheaper, faster and more efficient to build human like AI to interact with the current infrastructure\n",
    "* human embodiment hypothesis\n",
    "* human like AI to be related AI safety\n",
    "* teleoperation, applying human AI to human like bodies for tasks\n",
    "* need goals and motivation to generalize the abilities of the AI\n",
    "* building AI in our image then in the future we can merge with their characteristics"
   ]
  },
  {
   "cell_type": "markdown",
   "metadata": {},
   "source": [
    "Scott Phoneix, Vicarious\n",
    "\n",
    "* robotics parts are cheap but why are robotics not ubiquitious, software is lacking\n",
    "* 15 years from now robots to be as common as cell phones\n",
    "* old brain is like deep learning\n",
    "* lots of training data, low generalization, no model of the world\n",
    "* fancy regression\n",
    "* new brain\n",
    "* low training data, high generalization, learns causal model of the world\n",
    "* take richer inductive biases\n",
    "* price of minimum wage rising, cost of robotics falling\n",
    "* parallel in robotics to early computing"
   ]
  },
  {
   "cell_type": "markdown",
   "metadata": {},
   "source": [
    "Ben Goertzel, Hanson Robotics\n",
    "\n",
    "* singularity net - AI and blockchain\n"
   ]
  },
  {
   "cell_type": "markdown",
   "metadata": {},
   "source": [
    "James Cham, Bloomberg Beta\n",
    "\n",
    "* models, product managers, data\n",
    "* needs methodologies for building models\n",
    "* not necessary ROI metrics applicable to ML deployment\n",
    "* data not necessarily ready for application\n",
    "* do not need to work on the edge for model applicables"
   ]
  },
  {
   "cell_type": "markdown",
   "metadata": {},
   "source": [
    "Albert Wenger, Union Square Vetures\n",
    "\n",
    "* captial is not a constraint\n",
    "* attention is scarce\n",
    "* what is your purpose\n",
    "* regarding freedom in life and applications to control attention"
   ]
  },
  {
   "cell_type": "markdown",
   "metadata": {},
   "source": [
    "Joshua Gans, Creative Destruction Lab\n",
    "\n",
    "* training data is downstream, once trained not that valuable (http://predictionmachines.ai)\n",
    "* actions are upstream, generate value and more value\n",
    "* role of judgement and the increase in value"
   ]
  },
  {
   "cell_type": "code",
   "execution_count": null,
   "metadata": {
    "collapsed": true
   },
   "outputs": [],
   "source": []
  }
 ],
 "metadata": {
  "kernelspec": {
   "display_name": "Python 3",
   "language": "python",
   "name": "python3"
  },
  "language_info": {
   "codemirror_mode": {
    "name": "ipython",
    "version": 3
   },
   "file_extension": ".py",
   "mimetype": "text/x-python",
   "name": "python",
   "nbconvert_exporter": "python",
   "pygments_lexer": "ipython3",
   "version": "3.6.2"
  },
  "toc": {
   "colors": {
    "hover_highlight": "#DAA520",
    "running_highlight": "#FF0000",
    "selected_highlight": "#FFD700"
   },
   "moveMenuLeft": true,
   "nav_menu": {
    "height": "12px",
    "width": "252px"
   },
   "navigate_menu": true,
   "number_sections": true,
   "sideBar": true,
   "threshold": 4,
   "toc_cell": false,
   "toc_section_display": "block",
   "toc_window_display": false
  }
 },
 "nbformat": 4,
 "nbformat_minor": 2
}
